{
 "cells": [
  {
   "cell_type": "code",
   "execution_count": 4,
   "id": "94d9d23b-46d7-43eb-b872-8606c2619998",
   "metadata": {},
   "outputs": [
    {
     "name": "stderr",
     "output_type": "stream",
     "text": [
      "100%|██████████| 174/174 [00:00<00:00, 49734.83it/s]\n",
      "100%|██████████| 46/46 [00:00<00:00, 52018.87it/s]\n",
      "100%|██████████| 59/59 [00:00<00:00, 81483.02it/s]"
     ]
    },
    {
     "name": "stdout",
     "output_type": "stream",
     "text": [
      "Complete\n"
     ]
    },
    {
     "name": "stderr",
     "output_type": "stream",
     "text": [
      "\n"
     ]
    }
   ],
   "source": [
    "import os\n",
    "import os.path as ops\n",
    "import glob\n",
    "import random\n",
    "\n",
    "import tqdm\n",
    "\n",
    "split_names = [\"train\", \"val\", \"test\"]\n",
    "\n",
    "for split in split_names:\n",
    "    SOURCE_IMAGE_DIR = f'cityscapes/{split}/leftImg8bit'\n",
    "    SOURCE_LABEL_DIR = f'cityscapes/{split}/gtFine'\n",
    "\n",
    "    DST_IMAGE_INDEX_FILE_OUTPUT_DIR = 'cityscapes/image_file_index'\n",
    "\n",
    "    unique_ids = []\n",
    "    for dir_name in os.listdir(SOURCE_IMAGE_DIR):\n",
    "\n",
    "        image_file_index = []\n",
    "\n",
    "        source_dir = ops.join(SOURCE_IMAGE_DIR, dir_name)\n",
    "        source_image_paths = glob.glob('{:s}/**/*.png'.format(source_dir), recursive=True)\n",
    "        for source_image in tqdm.tqdm(source_image_paths):\n",
    "            city_name = ops.split(ops.split(source_image)[0])[1]\n",
    "            image_name = ops.split(source_image)[1]\n",
    "            image_id = image_name.split('.')[0]\n",
    "            image_id_prefix = '_'.join(image_id.split('_')[:3])\n",
    "\n",
    "            label_image_name = '{:s}_gtFine_labelTrainIds.png'.format(image_id_prefix)\n",
    "            label_image_dir = ops.join(SOURCE_LABEL_DIR, dir_name, city_name)\n",
    "            label_image_path = ops.join(label_image_dir, label_image_name)\n",
    "            assert ops.exists(label_image_path), '{:s} not exist'.format(label_image_path)\n",
    "\n",
    "            image_file_index.append('{:s} {:s}'.format(source_image, label_image_path))\n",
    "\n",
    "        random.shuffle(image_file_index)\n",
    "        output_file_path = ops.join(DST_IMAGE_INDEX_FILE_OUTPUT_DIR, f'{split}.txt'.format())\n",
    "        with open(output_file_path, 'w') as file:\n",
    "            file.write('\\n'.join(image_file_index))\n",
    "\n",
    "print('Complete')"
   ]
  },
  {
   "cell_type": "code",
   "execution_count": 2,
   "id": "2e9e4578-cf1e-4943-ab7c-1185c77aeea1",
   "metadata": {},
   "outputs": [
    {
     "name": "stdout",
     "output_type": "stream",
     "text": [
      "Collecting tqdm\n",
      "  Downloading tqdm-4.65.0-py3-none-any.whl (77 kB)\n",
      "\u001b[K     |████████████████████████████████| 77 kB 3.0 MB/s eta 0:00:011\n",
      "\u001b[?25hInstalling collected packages: tqdm\n",
      "Successfully installed tqdm-4.65.0\n"
     ]
    }
   ],
   "source": [
    "!pip install tqdm"
   ]
  },
  {
   "cell_type": "code",
   "execution_count": null,
   "id": "ce51d68c-4d96-4cbe-a81d-b7dbb66e2078",
   "metadata": {},
   "outputs": [],
   "source": []
  }
 ],
 "metadata": {
  "kernelspec": {
   "display_name": "default:Python",
   "language": "python",
   "name": "conda-env-default-py"
  },
  "language_info": {
   "codemirror_mode": {
    "name": "ipython",
    "version": 3
   },
   "file_extension": ".py",
   "mimetype": "text/x-python",
   "name": "python",
   "nbconvert_exporter": "python",
   "pygments_lexer": "ipython3",
   "version": "3.9.13"
  }
 },
 "nbformat": 4,
 "nbformat_minor": 5
}
